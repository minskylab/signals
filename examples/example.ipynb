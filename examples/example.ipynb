{
 "cells": [
  {
   "cell_type": "code",
   "execution_count": 1,
   "metadata": {},
   "outputs": [],
   "source": [
    "import pandas as pd\n",
    "import numpy as np\n",
    "from matplotlib import pyplot as plt\n",
    "import os\n",
    "import seaborn as sns\n",
    "import environs\n",
    "import os.path\n",
    "from gensim import corpora\n",
    "from gensim.models import LsiModel\n",
    "from nltk.tokenize import RegexpTokenizer\n",
    "from nltk.corpus import stopwords\n",
    "from nltk.stem.porter import PorterStemmer\n",
    "from gensim.models.coherencemodel import CoherenceModel\n",
    "import re\n",
    "import json\n",
    "import networkx as nx\n",
    "%matplotlib inline"
   ]
  },
  {
   "cell_type": "code",
   "execution_count": 2,
   "metadata": {},
   "outputs": [],
   "source": [
    "env = environs.Env()\n",
    "env.read_env()\n",
    "\n",
    "root_token = env.str(\"ROOT_TOKEN\", \"\")"
   ]
  },
  {
   "cell_type": "code",
   "execution_count": 3,
   "metadata": {},
   "outputs": [
    {
     "name": "stdout",
     "output_type": "stream",
     "text": [
      "1055\n"
     ]
    }
   ],
   "source": [
    "uri = f\"https://signals.minsky.cc/tweets/2020-06-05T(00-01):00:00.csv?timezone=-5&token={root_token}\"\n",
    "tweets = pd.read_csv(uri)\n",
    "print(len(tweets))"
   ]
  },
  {
   "cell_type": "code",
   "execution_count": 43,
   "metadata": {},
   "outputs": [
    {
     "data": {
      "image/png": "[encoded data removed]",
      "text/plain": [
       "<Figure size 432x288 with 1 Axes>"
      ]
     },
     "metadata": {
      "needs_background": "light"
     },
     "output_type": "display_data"
    }
   ],
   "source": [
    "documents_list = [str(t) for t in tweets[\"tweet\"]]\n",
    "black_list = [\"http\", \"https\", \"com\", \"twitter\", \"fund\", \"relief\", \"pic\", \"www\", \"pe\"]\n",
    "tokenizer = RegexpTokenizer(r'\\w+')\n",
    "es_stop = set(stopwords.words('spanish'))\n",
    "en_stop = set(stopwords.words('english'))\n",
    "p_stemmer = PorterStemmer()\n",
    "texts = []\n",
    "for i in documents_list:\n",
    "    raw = i.lower()\n",
    "    tokens = tokenizer.tokenize(raw)\n",
    "    stopped_tokens = [i for i in tokens if not i in es_stop]\n",
    "    stopped_tokens = [i for i in stopped_tokens if not i in en_stop]\n",
    "    stopped_tokens = [i for i in stopped_tokens if not i in black_list]\n",
    "    stemmed_tokens = [p_stemmer.stem(i) for i in stopped_tokens]\n",
    "    texts.append(stemmed_tokens)\n",
    "    \n",
    "# corpus\n",
    "dictionary = corpora.Dictionary(texts)\n",
    "doc_term_matrix = [dictionary.doc2bow(doc) for doc in texts]\n",
    "\n",
    "# fitting coherence\n",
    "start = 2\n",
    "step = 1\n",
    "stop = 12\n",
    "coherence_values = []\n",
    "model_list = []\n",
    "\n",
    "for num_topics in range(start, stop, step):\n",
    "    # generate LSA model\n",
    "    model = LsiModel(doc_term_matrix, num_topics=num_topics, id2word = dictionary)  # train model\n",
    "    model_list.append(model)\n",
    "    coherencemodel = CoherenceModel(model=model, texts=texts, dictionary=dictionary, coherence='c_v')\n",
    "    coherence_values.append(coherencemodel.get_coherence())\n",
    "\n",
    "range_of_topics = range(start, stop, step)\n",
    "plt.plot(range_of_topics, coherence_values)\n",
    "plt.xlabel(\"Number of Topics\")\n",
    "plt.ylabel(\"Coherence score\")\n",
    "plt.legend((\"coherence_values\"), loc='best')\n",
    "plt.show()"
   ]
  },
  {
   "cell_type": "code",
   "execution_count": 45,
   "metadata": {},
   "outputs": [
    {
     "name": "stdout",
     "output_type": "stream",
     "text": [
      "(0, '-0.736*\"perú\" + -0.267*\"peru\" + -0.209*\"caso\" + -0.189*\"1\" + -0.144*\"covid\" + -0.136*\"colombia\"')\n",
      "(1, '-0.831*\"peru\" + 0.431*\"perú\" + -0.124*\"coronaviru\" + -0.108*\"19\" + -0.106*\"covid\" + -0.072*\"1\"')\n",
      "(2, '-0.432*\"1\" + -0.358*\"caso\" + 0.354*\"perú\" + -0.278*\"2\" + -0.271*\"7\" + 0.219*\"peru\"')\n",
      "(3, '-0.458*\"1\" + 0.415*\"covid\" + 0.394*\"19\" + 0.322*\"caso\" + 0.257*\"coronaviru\" + -0.149*\"peru\"')\n",
      "(4, '-0.389*\"1\" + 0.361*\"caso\" + -0.239*\"coronaviru\" + -0.218*\"19\" + -0.217*\"covid\" + 0.209*\"peru\"')\n",
      "(5, '0.616*\"q\" + 0.513*\"si\" + -0.222*\"perú\" + -0.177*\"peru\" + 0.149*\"1\" + 0.119*\"covid\"')\n",
      "(6, '-0.284*\"q\" + -0.260*\"covid\" + -0.247*\"19\" + 0.233*\"e0\" + 0.209*\"china\" + 0.205*\"itali\"')\n"
     ]
    }
   ],
   "source": [
    "number_of_topics = 7\n",
    "number_of_words = 6\n",
    "lsamodel = LsiModel(doc_term_matrix, num_topics=number_of_topics, id2word = dictionary)\n",
    "for topic in lsamodel.show_topics(num_topics=number_of_topics, num_words=number_of_words):\n",
    "    print(topic)"
   ]
  },
  {
   "cell_type": "code",
   "execution_count": 41,
   "metadata": {},
   "outputs": [],
   "source": [
    "tweets = pd.read_csv(f\"https://signals.minsky.cc/tweets/2020-06-05T(00-23):00:00.csv?timezone=-5&token={root_token}\")"
   ]
  },
  {
   "cell_type": "code",
   "execution_count": 42,
   "metadata": {},
   "outputs": [
    {
     "data": {
      "text/plain": [
       "10520"
      ]
     },
     "execution_count": 42,
     "metadata": {},
     "output_type": "execute_result"
    }
   ],
   "source": [
    "len(tweets)"
   ]
  },
  {
   "cell_type": "code",
   "execution_count": null,
   "metadata": {},
   "outputs": [],
   "source": []
  }
 ],
 "metadata": {
  "kernelspec": {
   "name": "python38264bitsignalspipenv7faef2f54b3940658c3443fe8e195c84",
   "language": "python",
   "display_name": "Python 3.8.2 64-bit ('signals': pipenv)"
  },
  "language_info": {
   "codemirror_mode": {
    "name": "ipython",
    "version": 3
   },
   "file_extension": ".py",
   "mimetype": "text/x-python",
   "name": "python",
   "nbconvert_exporter": "python",
   "pygments_lexer": "ipython3",
   "version": "3.8.2"
  }
 },
 "nbformat": 4,
 "nbformat_minor": 4
}